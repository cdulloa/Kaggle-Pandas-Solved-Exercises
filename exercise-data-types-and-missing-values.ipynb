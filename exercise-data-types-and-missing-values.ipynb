{
 "cells": [
  {
   "cell_type": "markdown",
   "id": "f1542d2e",
   "metadata": {
    "papermill": {
     "duration": 0.007937,
     "end_time": "2022-06-18T07:27:27.381373",
     "exception": false,
     "start_time": "2022-06-18T07:27:27.373436",
     "status": "completed"
    },
    "tags": []
   },
   "source": [
    "**This notebook is an exercise in the [Pandas](https://www.kaggle.com/learn/pandas) course.  You can reference the tutorial at [this link](https://www.kaggle.com/residentmario/data-types-and-missing-values).**\n",
    "\n",
    "---\n"
   ]
  },
  {
   "cell_type": "markdown",
   "id": "059a5672",
   "metadata": {
    "papermill": {
     "duration": 0.004931,
     "end_time": "2022-06-18T07:27:27.391762",
     "exception": false,
     "start_time": "2022-06-18T07:27:27.386831",
     "status": "completed"
    },
    "tags": []
   },
   "source": [
    "# Introduction\n",
    "\n",
    "Run the following cell to load your data and some utility functions."
   ]
  },
  {
   "cell_type": "code",
   "execution_count": 1,
   "id": "1239dd76",
   "metadata": {
    "execution": {
     "iopub.execute_input": "2022-06-18T07:27:27.403900Z",
     "iopub.status.busy": "2022-06-18T07:27:27.403361Z",
     "iopub.status.idle": "2022-06-18T07:27:30.316674Z",
     "shell.execute_reply": "2022-06-18T07:27:30.315847Z"
    },
    "papermill": {
     "duration": 2.922286,
     "end_time": "2022-06-18T07:27:30.319436",
     "exception": false,
     "start_time": "2022-06-18T07:27:27.397150",
     "status": "completed"
    },
    "tags": []
   },
   "outputs": [
    {
     "name": "stdout",
     "output_type": "stream",
     "text": [
      "Setup complete.\n"
     ]
    }
   ],
   "source": [
    "import pandas as pd\n",
    "\n",
    "reviews = pd.read_csv(\"../input/wine-reviews/winemag-data-130k-v2.csv\", index_col=0)\n",
    "\n",
    "from learntools.core import binder; binder.bind(globals())\n",
    "from learntools.pandas.data_types_and_missing_data import *\n",
    "print(\"Setup complete.\")"
   ]
  },
  {
   "cell_type": "markdown",
   "id": "9e7f9be6",
   "metadata": {
    "papermill": {
     "duration": 0.004017,
     "end_time": "2022-06-18T07:27:30.327752",
     "exception": false,
     "start_time": "2022-06-18T07:27:30.323735",
     "status": "completed"
    },
    "tags": []
   },
   "source": [
    "# Exercises"
   ]
  },
  {
   "cell_type": "markdown",
   "id": "28cbbcdc",
   "metadata": {
    "papermill": {
     "duration": 0.003779,
     "end_time": "2022-06-18T07:27:30.335630",
     "exception": false,
     "start_time": "2022-06-18T07:27:30.331851",
     "status": "completed"
    },
    "tags": []
   },
   "source": [
    "## 1. \n",
    "What is the data type of the `points` column in the dataset?"
   ]
  },
  {
   "cell_type": "code",
   "execution_count": 2,
   "id": "621dc8de",
   "metadata": {
    "execution": {
     "iopub.execute_input": "2022-06-18T07:27:30.346123Z",
     "iopub.status.busy": "2022-06-18T07:27:30.345145Z",
     "iopub.status.idle": "2022-06-18T07:27:30.357327Z",
     "shell.execute_reply": "2022-06-18T07:27:30.356441Z"
    },
    "papermill": {
     "duration": 0.019336,
     "end_time": "2022-06-18T07:27:30.358957",
     "exception": false,
     "start_time": "2022-06-18T07:27:30.339621",
     "status": "completed"
    },
    "tags": []
   },
   "outputs": [
    {
     "data": {
      "application/javascript": [
       "parent.postMessage({\"jupyterEvent\": \"custom.exercise_interaction\", \"data\": {\"outcomeType\": 1, \"valueTowardsCompletion\": 0.25, \"interactionType\": 1, \"questionType\": 1, \"questionId\": \"1_PointsDtype\", \"learnToolsVersion\": \"0.3.4\", \"failureMessage\": \"\", \"exceptionClass\": \"\", \"trace\": \"\"}}, \"*\")"
      ],
      "text/plain": [
       "<IPython.core.display.Javascript object>"
      ]
     },
     "metadata": {},
     "output_type": "display_data"
    },
    {
     "data": {
      "text/markdown": [
       "<span style=\"color:#33cc33\">Correct</span>"
      ],
      "text/plain": [
       "Correct"
      ]
     },
     "metadata": {},
     "output_type": "display_data"
    }
   ],
   "source": [
    "# Your code here\n",
    "dtype = reviews.points.dtype\n",
    "\n",
    "# Check your answer\n",
    "q1.check()"
   ]
  },
  {
   "cell_type": "code",
   "execution_count": 3,
   "id": "50fd23b1",
   "metadata": {
    "execution": {
     "iopub.execute_input": "2022-06-18T07:27:30.369034Z",
     "iopub.status.busy": "2022-06-18T07:27:30.368649Z",
     "iopub.status.idle": "2022-06-18T07:27:30.371841Z",
     "shell.execute_reply": "2022-06-18T07:27:30.371350Z"
    },
    "papermill": {
     "duration": 0.010664,
     "end_time": "2022-06-18T07:27:30.374024",
     "exception": false,
     "start_time": "2022-06-18T07:27:30.363360",
     "status": "completed"
    },
    "tags": []
   },
   "outputs": [],
   "source": [
    "#q1.hint()\n",
    "#q1.solution()"
   ]
  },
  {
   "cell_type": "markdown",
   "id": "3498629c",
   "metadata": {
    "papermill": {
     "duration": 0.004014,
     "end_time": "2022-06-18T07:27:30.382679",
     "exception": false,
     "start_time": "2022-06-18T07:27:30.378665",
     "status": "completed"
    },
    "tags": []
   },
   "source": [
    "## 2. \n",
    "Create a Series from entries in the `points` column, but convert the entries to strings. Hint: strings are `str` in native Python."
   ]
  },
  {
   "cell_type": "code",
   "execution_count": 4,
   "id": "5a4de4ff",
   "metadata": {
    "execution": {
     "iopub.execute_input": "2022-06-18T07:27:30.392741Z",
     "iopub.status.busy": "2022-06-18T07:27:30.392265Z",
     "iopub.status.idle": "2022-06-18T07:27:30.456324Z",
     "shell.execute_reply": "2022-06-18T07:27:30.455787Z"
    },
    "papermill": {
     "duration": 0.070883,
     "end_time": "2022-06-18T07:27:30.457761",
     "exception": false,
     "start_time": "2022-06-18T07:27:30.386878",
     "status": "completed"
    },
    "tags": []
   },
   "outputs": [
    {
     "data": {
      "application/javascript": [
       "parent.postMessage({\"jupyterEvent\": \"custom.exercise_interaction\", \"data\": {\"outcomeType\": 1, \"valueTowardsCompletion\": 0.25, \"interactionType\": 1, \"questionType\": 1, \"questionId\": \"2_StrPoints\", \"learnToolsVersion\": \"0.3.4\", \"failureMessage\": \"\", \"exceptionClass\": \"\", \"trace\": \"\"}}, \"*\")"
      ],
      "text/plain": [
       "<IPython.core.display.Javascript object>"
      ]
     },
     "metadata": {},
     "output_type": "display_data"
    },
    {
     "data": {
      "text/markdown": [
       "<span style=\"color:#33cc33\">Correct</span>"
      ],
      "text/plain": [
       "Correct"
      ]
     },
     "metadata": {},
     "output_type": "display_data"
    }
   ],
   "source": [
    "point_strings = reviews.points.astype('str')\n",
    "\n",
    "# Check your answer\n",
    "q2.check()"
   ]
  },
  {
   "cell_type": "code",
   "execution_count": 5,
   "id": "f2c2e513",
   "metadata": {
    "execution": {
     "iopub.execute_input": "2022-06-18T07:27:30.468488Z",
     "iopub.status.busy": "2022-06-18T07:27:30.467913Z",
     "iopub.status.idle": "2022-06-18T07:27:30.475288Z",
     "shell.execute_reply": "2022-06-18T07:27:30.474386Z"
    },
    "papermill": {
     "duration": 0.014958,
     "end_time": "2022-06-18T07:27:30.477592",
     "exception": false,
     "start_time": "2022-06-18T07:27:30.462634",
     "status": "completed"
    },
    "tags": []
   },
   "outputs": [
    {
     "data": {
      "application/javascript": [
       "parent.postMessage({\"jupyterEvent\": \"custom.exercise_interaction\", \"data\": {\"interactionType\": 3, \"questionType\": 1, \"questionId\": \"2_StrPoints\", \"learnToolsVersion\": \"0.3.4\", \"valueTowardsCompletion\": 0.0, \"failureMessage\": \"\", \"exceptionClass\": \"\", \"trace\": \"\", \"outcomeType\": 4}}, \"*\")"
      ],
      "text/plain": [
       "<IPython.core.display.Javascript object>"
      ]
     },
     "metadata": {},
     "output_type": "display_data"
    },
    {
     "data": {
      "text/markdown": [
       "<span style=\"color:#33cc99\">Solution:</span> \n",
       "```python\n",
       "point_strings = reviews.points.astype(str)\n",
       "```"
      ],
      "text/plain": [
       "Solution: \n",
       "```python\n",
       "point_strings = reviews.points.astype(str)\n",
       "```"
      ]
     },
     "metadata": {},
     "output_type": "display_data"
    }
   ],
   "source": [
    "#q2.hint()\n",
    "q2.solution()"
   ]
  },
  {
   "cell_type": "markdown",
   "id": "d40f26be",
   "metadata": {
    "papermill": {
     "duration": 0.004468,
     "end_time": "2022-06-18T07:27:30.486930",
     "exception": false,
     "start_time": "2022-06-18T07:27:30.482462",
     "status": "completed"
    },
    "tags": []
   },
   "source": [
    "## 3.\n",
    "Sometimes the price column is null. How many reviews in the dataset are missing a price?"
   ]
  },
  {
   "cell_type": "code",
   "execution_count": 6,
   "id": "0a183914",
   "metadata": {
    "execution": {
     "iopub.execute_input": "2022-06-18T07:27:30.497904Z",
     "iopub.status.busy": "2022-06-18T07:27:30.497057Z",
     "iopub.status.idle": "2022-06-18T07:27:30.505570Z",
     "shell.execute_reply": "2022-06-18T07:27:30.504945Z"
    },
    "papermill": {
     "duration": 0.015534,
     "end_time": "2022-06-18T07:27:30.507074",
     "exception": false,
     "start_time": "2022-06-18T07:27:30.491540",
     "status": "completed"
    },
    "tags": []
   },
   "outputs": [
    {
     "data": {
      "application/javascript": [
       "parent.postMessage({\"jupyterEvent\": \"custom.exercise_interaction\", \"data\": {\"outcomeType\": 1, \"valueTowardsCompletion\": 0.25, \"interactionType\": 1, \"questionType\": 1, \"questionId\": \"3_CountMissingPrices\", \"learnToolsVersion\": \"0.3.4\", \"failureMessage\": \"\", \"exceptionClass\": \"\", \"trace\": \"\"}}, \"*\")"
      ],
      "text/plain": [
       "<IPython.core.display.Javascript object>"
      ]
     },
     "metadata": {},
     "output_type": "display_data"
    },
    {
     "data": {
      "text/markdown": [
       "<span style=\"color:#33cc33\">Correct</span>"
      ],
      "text/plain": [
       "Correct"
      ]
     },
     "metadata": {},
     "output_type": "display_data"
    }
   ],
   "source": [
    "n_missing_prices = reviews.price.isnull().sum() ##Must include .sum() if doing this way\n",
    "\n",
    "# Check your answer\n",
    "q3.check()"
   ]
  },
  {
   "cell_type": "code",
   "execution_count": 7,
   "id": "df433d2c",
   "metadata": {
    "execution": {
     "iopub.execute_input": "2022-06-18T07:27:30.518247Z",
     "iopub.status.busy": "2022-06-18T07:27:30.517559Z",
     "iopub.status.idle": "2022-06-18T07:27:30.523124Z",
     "shell.execute_reply": "2022-06-18T07:27:30.522544Z"
    },
    "papermill": {
     "duration": 0.012598,
     "end_time": "2022-06-18T07:27:30.524551",
     "exception": false,
     "start_time": "2022-06-18T07:27:30.511953",
     "status": "completed"
    },
    "tags": []
   },
   "outputs": [
    {
     "data": {
      "text/plain": [
       "8996"
      ]
     },
     "execution_count": 7,
     "metadata": {},
     "output_type": "execute_result"
    }
   ],
   "source": [
    "n_missing_prices"
   ]
  },
  {
   "cell_type": "code",
   "execution_count": 8,
   "id": "204a64b0",
   "metadata": {
    "execution": {
     "iopub.execute_input": "2022-06-18T07:27:30.535738Z",
     "iopub.status.busy": "2022-06-18T07:27:30.535259Z",
     "iopub.status.idle": "2022-06-18T07:27:30.541955Z",
     "shell.execute_reply": "2022-06-18T07:27:30.541422Z"
    },
    "papermill": {
     "duration": 0.014391,
     "end_time": "2022-06-18T07:27:30.543836",
     "exception": false,
     "start_time": "2022-06-18T07:27:30.529445",
     "status": "completed"
    },
    "tags": []
   },
   "outputs": [
    {
     "data": {
      "application/javascript": [
       "parent.postMessage({\"jupyterEvent\": \"custom.exercise_interaction\", \"data\": {\"interactionType\": 3, \"questionType\": 1, \"questionId\": \"3_CountMissingPrices\", \"learnToolsVersion\": \"0.3.4\", \"valueTowardsCompletion\": 0.0, \"failureMessage\": \"\", \"exceptionClass\": \"\", \"trace\": \"\", \"outcomeType\": 4}}, \"*\")"
      ],
      "text/plain": [
       "<IPython.core.display.Javascript object>"
      ]
     },
     "metadata": {},
     "output_type": "display_data"
    },
    {
     "data": {
      "text/markdown": [
       "<span style=\"color:#33cc99\">Solution:</span> \n",
       "```python\n",
       "missing_price_reviews = reviews[reviews.price.isnull()]\n",
       "n_missing_prices = len(missing_price_reviews)\n",
       "# Cute alternative solution: if we sum a boolean series, True is treated as 1 and False as 0\n",
       "n_missing_prices = reviews.price.isnull().sum()\n",
       "# or equivalently:\n",
       "n_missing_prices = pd.isnull(reviews.price).sum()\n",
       "\n",
       "```"
      ],
      "text/plain": [
       "Solution: \n",
       "```python\n",
       "missing_price_reviews = reviews[reviews.price.isnull()]\n",
       "n_missing_prices = len(missing_price_reviews)\n",
       "# Cute alternative solution: if we sum a boolean series, True is treated as 1 and False as 0\n",
       "n_missing_prices = reviews.price.isnull().sum()\n",
       "# or equivalently:\n",
       "n_missing_prices = pd.isnull(reviews.price).sum()\n",
       "\n",
       "```"
      ]
     },
     "metadata": {},
     "output_type": "display_data"
    }
   ],
   "source": [
    "#q3.hint()\n",
    "q3.solution()"
   ]
  },
  {
   "cell_type": "code",
   "execution_count": 9,
   "id": "d442fe40",
   "metadata": {
    "execution": {
     "iopub.execute_input": "2022-06-18T07:27:30.562330Z",
     "iopub.status.busy": "2022-06-18T07:27:30.561516Z",
     "iopub.status.idle": "2022-06-18T07:27:30.582382Z",
     "shell.execute_reply": "2022-06-18T07:27:30.581764Z"
    },
    "papermill": {
     "duration": 0.03198,
     "end_time": "2022-06-18T07:27:30.584202",
     "exception": false,
     "start_time": "2022-06-18T07:27:30.552222",
     "status": "completed"
    },
    "tags": []
   },
   "outputs": [
    {
     "data": {
      "text/html": [
       "<div>\n",
       "<style scoped>\n",
       "    .dataframe tbody tr th:only-of-type {\n",
       "        vertical-align: middle;\n",
       "    }\n",
       "\n",
       "    .dataframe tbody tr th {\n",
       "        vertical-align: top;\n",
       "    }\n",
       "\n",
       "    .dataframe thead th {\n",
       "        text-align: right;\n",
       "    }\n",
       "</style>\n",
       "<table border=\"1\" class=\"dataframe\">\n",
       "  <thead>\n",
       "    <tr style=\"text-align: right;\">\n",
       "      <th></th>\n",
       "      <th>country</th>\n",
       "      <th>description</th>\n",
       "      <th>designation</th>\n",
       "      <th>points</th>\n",
       "      <th>price</th>\n",
       "      <th>province</th>\n",
       "      <th>region_1</th>\n",
       "      <th>region_2</th>\n",
       "      <th>taster_name</th>\n",
       "      <th>taster_twitter_handle</th>\n",
       "      <th>title</th>\n",
       "      <th>variety</th>\n",
       "      <th>winery</th>\n",
       "    </tr>\n",
       "  </thead>\n",
       "  <tbody>\n",
       "    <tr>\n",
       "      <th>0</th>\n",
       "      <td>Italy</td>\n",
       "      <td>Aromas include tropical fruit, broom, brimston...</td>\n",
       "      <td>Vulkà Bianco</td>\n",
       "      <td>87</td>\n",
       "      <td>NaN</td>\n",
       "      <td>Sicily &amp; Sardinia</td>\n",
       "      <td>Etna</td>\n",
       "      <td>NaN</td>\n",
       "      <td>Kerin O’Keefe</td>\n",
       "      <td>@kerinokeefe</td>\n",
       "      <td>Nicosia 2013 Vulkà Bianco  (Etna)</td>\n",
       "      <td>White Blend</td>\n",
       "      <td>Nicosia</td>\n",
       "    </tr>\n",
       "    <tr>\n",
       "      <th>1</th>\n",
       "      <td>Portugal</td>\n",
       "      <td>This is ripe and fruity, a wine that is smooth...</td>\n",
       "      <td>Avidagos</td>\n",
       "      <td>87</td>\n",
       "      <td>15.0</td>\n",
       "      <td>Douro</td>\n",
       "      <td>NaN</td>\n",
       "      <td>NaN</td>\n",
       "      <td>Roger Voss</td>\n",
       "      <td>@vossroger</td>\n",
       "      <td>Quinta dos Avidagos 2011 Avidagos Red (Douro)</td>\n",
       "      <td>Portuguese Red</td>\n",
       "      <td>Quinta dos Avidagos</td>\n",
       "    </tr>\n",
       "    <tr>\n",
       "      <th>2</th>\n",
       "      <td>US</td>\n",
       "      <td>Tart and snappy, the flavors of lime flesh and...</td>\n",
       "      <td>NaN</td>\n",
       "      <td>87</td>\n",
       "      <td>14.0</td>\n",
       "      <td>Oregon</td>\n",
       "      <td>Willamette Valley</td>\n",
       "      <td>Willamette Valley</td>\n",
       "      <td>Paul Gregutt</td>\n",
       "      <td>@paulgwine</td>\n",
       "      <td>Rainstorm 2013 Pinot Gris (Willamette Valley)</td>\n",
       "      <td>Pinot Gris</td>\n",
       "      <td>Rainstorm</td>\n",
       "    </tr>\n",
       "    <tr>\n",
       "      <th>3</th>\n",
       "      <td>US</td>\n",
       "      <td>Pineapple rind, lemon pith and orange blossom ...</td>\n",
       "      <td>Reserve Late Harvest</td>\n",
       "      <td>87</td>\n",
       "      <td>13.0</td>\n",
       "      <td>Michigan</td>\n",
       "      <td>Lake Michigan Shore</td>\n",
       "      <td>NaN</td>\n",
       "      <td>Alexander Peartree</td>\n",
       "      <td>NaN</td>\n",
       "      <td>St. Julian 2013 Reserve Late Harvest Riesling ...</td>\n",
       "      <td>Riesling</td>\n",
       "      <td>St. Julian</td>\n",
       "    </tr>\n",
       "    <tr>\n",
       "      <th>4</th>\n",
       "      <td>US</td>\n",
       "      <td>Much like the regular bottling from 2012, this...</td>\n",
       "      <td>Vintner's Reserve Wild Child Block</td>\n",
       "      <td>87</td>\n",
       "      <td>65.0</td>\n",
       "      <td>Oregon</td>\n",
       "      <td>Willamette Valley</td>\n",
       "      <td>Willamette Valley</td>\n",
       "      <td>Paul Gregutt</td>\n",
       "      <td>@paulgwine</td>\n",
       "      <td>Sweet Cheeks 2012 Vintner's Reserve Wild Child...</td>\n",
       "      <td>Pinot Noir</td>\n",
       "      <td>Sweet Cheeks</td>\n",
       "    </tr>\n",
       "  </tbody>\n",
       "</table>\n",
       "</div>"
      ],
      "text/plain": [
       "    country                                        description  \\\n",
       "0     Italy  Aromas include tropical fruit, broom, brimston...   \n",
       "1  Portugal  This is ripe and fruity, a wine that is smooth...   \n",
       "2        US  Tart and snappy, the flavors of lime flesh and...   \n",
       "3        US  Pineapple rind, lemon pith and orange blossom ...   \n",
       "4        US  Much like the regular bottling from 2012, this...   \n",
       "\n",
       "                          designation  points  price           province  \\\n",
       "0                        Vulkà Bianco      87    NaN  Sicily & Sardinia   \n",
       "1                            Avidagos      87   15.0              Douro   \n",
       "2                                 NaN      87   14.0             Oregon   \n",
       "3                Reserve Late Harvest      87   13.0           Michigan   \n",
       "4  Vintner's Reserve Wild Child Block      87   65.0             Oregon   \n",
       "\n",
       "              region_1           region_2         taster_name  \\\n",
       "0                 Etna                NaN       Kerin O’Keefe   \n",
       "1                  NaN                NaN          Roger Voss   \n",
       "2    Willamette Valley  Willamette Valley        Paul Gregutt   \n",
       "3  Lake Michigan Shore                NaN  Alexander Peartree   \n",
       "4    Willamette Valley  Willamette Valley        Paul Gregutt   \n",
       "\n",
       "  taster_twitter_handle                                              title  \\\n",
       "0          @kerinokeefe                  Nicosia 2013 Vulkà Bianco  (Etna)   \n",
       "1            @vossroger      Quinta dos Avidagos 2011 Avidagos Red (Douro)   \n",
       "2           @paulgwine       Rainstorm 2013 Pinot Gris (Willamette Valley)   \n",
       "3                   NaN  St. Julian 2013 Reserve Late Harvest Riesling ...   \n",
       "4           @paulgwine   Sweet Cheeks 2012 Vintner's Reserve Wild Child...   \n",
       "\n",
       "          variety               winery  \n",
       "0     White Blend              Nicosia  \n",
       "1  Portuguese Red  Quinta dos Avidagos  \n",
       "2      Pinot Gris            Rainstorm  \n",
       "3        Riesling           St. Julian  \n",
       "4      Pinot Noir         Sweet Cheeks  "
      ]
     },
     "execution_count": 9,
     "metadata": {},
     "output_type": "execute_result"
    }
   ],
   "source": [
    "reviews.head()"
   ]
  },
  {
   "cell_type": "markdown",
   "id": "c40dd8b8",
   "metadata": {
    "papermill": {
     "duration": 0.008517,
     "end_time": "2022-06-18T07:27:30.601738",
     "exception": false,
     "start_time": "2022-06-18T07:27:30.593221",
     "status": "completed"
    },
    "tags": []
   },
   "source": [
    "## 4.\n",
    "What are the most common wine-producing regions? Create a Series counting the number of times each value occurs in the `region_1` field. This field is often missing data, so replace missing values with `Unknown`. Sort in descending order.  Your output should look something like this:\n",
    "\n",
    "```\n",
    "Unknown                    21247\n",
    "Napa Valley                 4480\n",
    "                           ...  \n",
    "Bardolino Superiore            1\n",
    "Primitivo del Tarantino        1\n",
    "Name: region_1, Length: 1230, dtype: int64\n",
    "```"
   ]
  },
  {
   "cell_type": "code",
   "execution_count": 10,
   "id": "5a77578e",
   "metadata": {
    "execution": {
     "iopub.execute_input": "2022-06-18T07:27:30.620939Z",
     "iopub.status.busy": "2022-06-18T07:27:30.620143Z",
     "iopub.status.idle": "2022-06-18T07:27:30.652759Z",
     "shell.execute_reply": "2022-06-18T07:27:30.652136Z"
    },
    "papermill": {
     "duration": 0.044246,
     "end_time": "2022-06-18T07:27:30.654709",
     "exception": false,
     "start_time": "2022-06-18T07:27:30.610463",
     "status": "completed"
    },
    "tags": []
   },
   "outputs": [
    {
     "data": {
      "application/javascript": [
       "parent.postMessage({\"jupyterEvent\": \"custom.exercise_interaction\", \"data\": {\"outcomeType\": 1, \"valueTowardsCompletion\": 0.25, \"interactionType\": 1, \"questionType\": 2, \"questionId\": \"4_ReviewsPerRegion\", \"learnToolsVersion\": \"0.3.4\", \"failureMessage\": \"\", \"exceptionClass\": \"\", \"trace\": \"\"}}, \"*\")"
      ],
      "text/plain": [
       "<IPython.core.display.Javascript object>"
      ]
     },
     "metadata": {},
     "output_type": "display_data"
    },
    {
     "data": {
      "text/markdown": [
       "<span style=\"color:#33cc33\">Correct</span>"
      ],
      "text/plain": [
       "Correct"
      ]
     },
     "metadata": {},
     "output_type": "display_data"
    }
   ],
   "source": [
    "reviews_per_region = reviews.region_1.fillna(\"Unknown\").value_counts().sort_values(ascending=False)\n",
    "# reviews_per_region = reviews.region_1.fillna(\"Unknown\").sort_values(ascending=False)\n",
    "\n",
    "# Check your answer\n",
    "q4.check()"
   ]
  },
  {
   "cell_type": "code",
   "execution_count": 11,
   "id": "2be11656",
   "metadata": {
    "execution": {
     "iopub.execute_input": "2022-06-18T07:27:30.674736Z",
     "iopub.status.busy": "2022-06-18T07:27:30.673959Z",
     "iopub.status.idle": "2022-06-18T07:27:30.680274Z",
     "shell.execute_reply": "2022-06-18T07:27:30.679594Z"
    },
    "papermill": {
     "duration": 0.017922,
     "end_time": "2022-06-18T07:27:30.681843",
     "exception": false,
     "start_time": "2022-06-18T07:27:30.663921",
     "status": "completed"
    },
    "tags": []
   },
   "outputs": [
    {
     "data": {
      "text/plain": [
       "Unknown                 21247\n",
       "Napa Valley              4480\n",
       "Columbia Valley (WA)     4124\n",
       "Russian River Valley     3091\n",
       "California               2629\n",
       "                        ...  \n",
       "Offida Rosso                1\n",
       "Corton Perrières            1\n",
       "Isle St. George             1\n",
       "Geelong                     1\n",
       "Paestum                     1\n",
       "Name: region_1, Length: 1230, dtype: int64"
      ]
     },
     "execution_count": 11,
     "metadata": {},
     "output_type": "execute_result"
    }
   ],
   "source": [
    "reviews_per_region"
   ]
  },
  {
   "cell_type": "code",
   "execution_count": 12,
   "id": "6cebfd28",
   "metadata": {
    "execution": {
     "iopub.execute_input": "2022-06-18T07:27:30.694834Z",
     "iopub.status.busy": "2022-06-18T07:27:30.694343Z",
     "iopub.status.idle": "2022-06-18T07:27:30.697681Z",
     "shell.execute_reply": "2022-06-18T07:27:30.697160Z"
    },
    "papermill": {
     "duration": 0.011462,
     "end_time": "2022-06-18T07:27:30.699136",
     "exception": false,
     "start_time": "2022-06-18T07:27:30.687674",
     "status": "completed"
    },
    "tags": []
   },
   "outputs": [],
   "source": [
    "#q4.hint()\n",
    "#q4.solution()"
   ]
  },
  {
   "cell_type": "markdown",
   "id": "a8acbe26",
   "metadata": {
    "papermill": {
     "duration": 0.005531,
     "end_time": "2022-06-18T07:27:30.710331",
     "exception": false,
     "start_time": "2022-06-18T07:27:30.704800",
     "status": "completed"
    },
    "tags": []
   },
   "source": [
    "# Keep going\n",
    "\n",
    "Move on to **[renaming and combining](https://www.kaggle.com/residentmario/renaming-and-combining)**."
   ]
  },
  {
   "cell_type": "markdown",
   "id": "fce37583",
   "metadata": {
    "papermill": {
     "duration": 0.005452,
     "end_time": "2022-06-18T07:27:30.721579",
     "exception": false,
     "start_time": "2022-06-18T07:27:30.716127",
     "status": "completed"
    },
    "tags": []
   },
   "source": [
    "---\n",
    "\n",
    "\n",
    "\n",
    "\n",
    "*Have questions or comments? Visit the [course discussion forum](https://www.kaggle.com/learn/pandas/discussion) to chat with other learners.*"
   ]
  }
 ],
 "metadata": {
  "kernelspec": {
   "display_name": "Python 3",
   "language": "python",
   "name": "python3"
  },
  "language_info": {
   "codemirror_mode": {
    "name": "ipython",
    "version": 3
   },
   "file_extension": ".py",
   "mimetype": "text/x-python",
   "name": "python",
   "nbconvert_exporter": "python",
   "pygments_lexer": "ipython3",
   "version": "3.7.12"
  },
  "papermill": {
   "default_parameters": {},
   "duration": 14.382205,
   "end_time": "2022-06-18T07:27:31.546736",
   "environment_variables": {},
   "exception": null,
   "input_path": "__notebook__.ipynb",
   "output_path": "__notebook__.ipynb",
   "parameters": {},
   "start_time": "2022-06-18T07:27:17.164531",
   "version": "2.3.4"
  }
 },
 "nbformat": 4,
 "nbformat_minor": 5
}
