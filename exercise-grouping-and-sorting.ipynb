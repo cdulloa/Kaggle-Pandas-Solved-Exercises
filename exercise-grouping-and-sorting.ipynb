{
 "cells": [
  {
   "cell_type": "markdown",
   "id": "b14989fa",
   "metadata": {
    "papermill": {
     "duration": 0.009746,
     "end_time": "2022-06-18T05:43:02.297793",
     "exception": false,
     "start_time": "2022-06-18T05:43:02.288047",
     "status": "completed"
    },
    "tags": []
   },
   "source": [
    "**This notebook is an exercise in the [Pandas](https://www.kaggle.com/learn/pandas) course.  You can reference the tutorial at [this link](https://www.kaggle.com/residentmario/grouping-and-sorting).**\n",
    "\n",
    "---\n"
   ]
  },
  {
   "cell_type": "markdown",
   "id": "80d1639c",
   "metadata": {
    "papermill": {
     "duration": 0.008204,
     "end_time": "2022-06-18T05:43:02.315311",
     "exception": false,
     "start_time": "2022-06-18T05:43:02.307107",
     "status": "completed"
    },
    "tags": []
   },
   "source": [
    "# Introduction\n",
    "\n",
    "In these exercises we'll apply groupwise analysis to our dataset.\n",
    "\n",
    "Run the code cell below to load the data before running the exercises."
   ]
  },
  {
   "cell_type": "code",
   "execution_count": 1,
   "id": "b5ae1d1b",
   "metadata": {
    "execution": {
     "iopub.execute_input": "2022-06-18T05:43:02.335099Z",
     "iopub.status.busy": "2022-06-18T05:43:02.334648Z",
     "iopub.status.idle": "2022-06-18T05:43:05.468806Z",
     "shell.execute_reply": "2022-06-18T05:43:05.467301Z"
    },
    "papermill": {
     "duration": 3.147505,
     "end_time": "2022-06-18T05:43:05.471668",
     "exception": false,
     "start_time": "2022-06-18T05:43:02.324163",
     "status": "completed"
    },
    "tags": []
   },
   "outputs": [
    {
     "name": "stdout",
     "output_type": "stream",
     "text": [
      "Setup complete.\n"
     ]
    }
   ],
   "source": [
    "import pandas as pd\n",
    "\n",
    "reviews = pd.read_csv(\"../input/wine-reviews/winemag-data-130k-v2.csv\", index_col=0)\n",
    "#pd.set_option(\"display.max_rows\", 5)\n",
    "\n",
    "from learntools.core import binder; binder.bind(globals())\n",
    "from learntools.pandas.grouping_and_sorting import *\n",
    "print(\"Setup complete.\")"
   ]
  },
  {
   "cell_type": "code",
   "execution_count": 2,
   "id": "6f001bce",
   "metadata": {
    "execution": {
     "iopub.execute_input": "2022-06-18T05:43:05.490626Z",
     "iopub.status.busy": "2022-06-18T05:43:05.490261Z",
     "iopub.status.idle": "2022-06-18T05:43:05.523090Z",
     "shell.execute_reply": "2022-06-18T05:43:05.521862Z"
    },
    "papermill": {
     "duration": 0.045304,
     "end_time": "2022-06-18T05:43:05.525526",
     "exception": false,
     "start_time": "2022-06-18T05:43:05.480222",
     "status": "completed"
    },
    "tags": []
   },
   "outputs": [
    {
     "data": {
      "text/html": [
       "<div>\n",
       "<style scoped>\n",
       "    .dataframe tbody tr th:only-of-type {\n",
       "        vertical-align: middle;\n",
       "    }\n",
       "\n",
       "    .dataframe tbody tr th {\n",
       "        vertical-align: top;\n",
       "    }\n",
       "\n",
       "    .dataframe thead th {\n",
       "        text-align: right;\n",
       "    }\n",
       "</style>\n",
       "<table border=\"1\" class=\"dataframe\">\n",
       "  <thead>\n",
       "    <tr style=\"text-align: right;\">\n",
       "      <th></th>\n",
       "      <th>country</th>\n",
       "      <th>description</th>\n",
       "      <th>designation</th>\n",
       "      <th>points</th>\n",
       "      <th>price</th>\n",
       "      <th>province</th>\n",
       "      <th>region_1</th>\n",
       "      <th>region_2</th>\n",
       "      <th>taster_name</th>\n",
       "      <th>taster_twitter_handle</th>\n",
       "      <th>title</th>\n",
       "      <th>variety</th>\n",
       "      <th>winery</th>\n",
       "    </tr>\n",
       "  </thead>\n",
       "  <tbody>\n",
       "    <tr>\n",
       "      <th>0</th>\n",
       "      <td>Italy</td>\n",
       "      <td>Aromas include tropical fruit, broom, brimston...</td>\n",
       "      <td>Vulkà Bianco</td>\n",
       "      <td>87</td>\n",
       "      <td>NaN</td>\n",
       "      <td>Sicily &amp; Sardinia</td>\n",
       "      <td>Etna</td>\n",
       "      <td>NaN</td>\n",
       "      <td>Kerin O’Keefe</td>\n",
       "      <td>@kerinokeefe</td>\n",
       "      <td>Nicosia 2013 Vulkà Bianco  (Etna)</td>\n",
       "      <td>White Blend</td>\n",
       "      <td>Nicosia</td>\n",
       "    </tr>\n",
       "    <tr>\n",
       "      <th>1</th>\n",
       "      <td>Portugal</td>\n",
       "      <td>This is ripe and fruity, a wine that is smooth...</td>\n",
       "      <td>Avidagos</td>\n",
       "      <td>87</td>\n",
       "      <td>15.0</td>\n",
       "      <td>Douro</td>\n",
       "      <td>NaN</td>\n",
       "      <td>NaN</td>\n",
       "      <td>Roger Voss</td>\n",
       "      <td>@vossroger</td>\n",
       "      <td>Quinta dos Avidagos 2011 Avidagos Red (Douro)</td>\n",
       "      <td>Portuguese Red</td>\n",
       "      <td>Quinta dos Avidagos</td>\n",
       "    </tr>\n",
       "    <tr>\n",
       "      <th>2</th>\n",
       "      <td>US</td>\n",
       "      <td>Tart and snappy, the flavors of lime flesh and...</td>\n",
       "      <td>NaN</td>\n",
       "      <td>87</td>\n",
       "      <td>14.0</td>\n",
       "      <td>Oregon</td>\n",
       "      <td>Willamette Valley</td>\n",
       "      <td>Willamette Valley</td>\n",
       "      <td>Paul Gregutt</td>\n",
       "      <td>@paulgwine</td>\n",
       "      <td>Rainstorm 2013 Pinot Gris (Willamette Valley)</td>\n",
       "      <td>Pinot Gris</td>\n",
       "      <td>Rainstorm</td>\n",
       "    </tr>\n",
       "    <tr>\n",
       "      <th>3</th>\n",
       "      <td>US</td>\n",
       "      <td>Pineapple rind, lemon pith and orange blossom ...</td>\n",
       "      <td>Reserve Late Harvest</td>\n",
       "      <td>87</td>\n",
       "      <td>13.0</td>\n",
       "      <td>Michigan</td>\n",
       "      <td>Lake Michigan Shore</td>\n",
       "      <td>NaN</td>\n",
       "      <td>Alexander Peartree</td>\n",
       "      <td>NaN</td>\n",
       "      <td>St. Julian 2013 Reserve Late Harvest Riesling ...</td>\n",
       "      <td>Riesling</td>\n",
       "      <td>St. Julian</td>\n",
       "    </tr>\n",
       "    <tr>\n",
       "      <th>4</th>\n",
       "      <td>US</td>\n",
       "      <td>Much like the regular bottling from 2012, this...</td>\n",
       "      <td>Vintner's Reserve Wild Child Block</td>\n",
       "      <td>87</td>\n",
       "      <td>65.0</td>\n",
       "      <td>Oregon</td>\n",
       "      <td>Willamette Valley</td>\n",
       "      <td>Willamette Valley</td>\n",
       "      <td>Paul Gregutt</td>\n",
       "      <td>@paulgwine</td>\n",
       "      <td>Sweet Cheeks 2012 Vintner's Reserve Wild Child...</td>\n",
       "      <td>Pinot Noir</td>\n",
       "      <td>Sweet Cheeks</td>\n",
       "    </tr>\n",
       "  </tbody>\n",
       "</table>\n",
       "</div>"
      ],
      "text/plain": [
       "    country                                        description  \\\n",
       "0     Italy  Aromas include tropical fruit, broom, brimston...   \n",
       "1  Portugal  This is ripe and fruity, a wine that is smooth...   \n",
       "2        US  Tart and snappy, the flavors of lime flesh and...   \n",
       "3        US  Pineapple rind, lemon pith and orange blossom ...   \n",
       "4        US  Much like the regular bottling from 2012, this...   \n",
       "\n",
       "                          designation  points  price           province  \\\n",
       "0                        Vulkà Bianco      87    NaN  Sicily & Sardinia   \n",
       "1                            Avidagos      87   15.0              Douro   \n",
       "2                                 NaN      87   14.0             Oregon   \n",
       "3                Reserve Late Harvest      87   13.0           Michigan   \n",
       "4  Vintner's Reserve Wild Child Block      87   65.0             Oregon   \n",
       "\n",
       "              region_1           region_2         taster_name  \\\n",
       "0                 Etna                NaN       Kerin O’Keefe   \n",
       "1                  NaN                NaN          Roger Voss   \n",
       "2    Willamette Valley  Willamette Valley        Paul Gregutt   \n",
       "3  Lake Michigan Shore                NaN  Alexander Peartree   \n",
       "4    Willamette Valley  Willamette Valley        Paul Gregutt   \n",
       "\n",
       "  taster_twitter_handle                                              title  \\\n",
       "0          @kerinokeefe                  Nicosia 2013 Vulkà Bianco  (Etna)   \n",
       "1            @vossroger      Quinta dos Avidagos 2011 Avidagos Red (Douro)   \n",
       "2           @paulgwine       Rainstorm 2013 Pinot Gris (Willamette Valley)   \n",
       "3                   NaN  St. Julian 2013 Reserve Late Harvest Riesling ...   \n",
       "4           @paulgwine   Sweet Cheeks 2012 Vintner's Reserve Wild Child...   \n",
       "\n",
       "          variety               winery  \n",
       "0     White Blend              Nicosia  \n",
       "1  Portuguese Red  Quinta dos Avidagos  \n",
       "2      Pinot Gris            Rainstorm  \n",
       "3        Riesling           St. Julian  \n",
       "4      Pinot Noir         Sweet Cheeks  "
      ]
     },
     "execution_count": 2,
     "metadata": {},
     "output_type": "execute_result"
    }
   ],
   "source": [
    "reviews.head()"
   ]
  },
  {
   "cell_type": "markdown",
   "id": "a8c3b475",
   "metadata": {
    "papermill": {
     "duration": 0.009295,
     "end_time": "2022-06-18T05:43:05.544223",
     "exception": false,
     "start_time": "2022-06-18T05:43:05.534928",
     "status": "completed"
    },
    "tags": []
   },
   "source": [
    "# Exercises"
   ]
  },
  {
   "cell_type": "markdown",
   "id": "f81d037f",
   "metadata": {
    "papermill": {
     "duration": 0.008884,
     "end_time": "2022-06-18T05:43:05.562402",
     "exception": false,
     "start_time": "2022-06-18T05:43:05.553518",
     "status": "completed"
    },
    "tags": []
   },
   "source": [
    "## 1.\n",
    "Who are the most common wine reviewers in the dataset? Create a `Series` whose index is the `taster_twitter_handle` category from the dataset, and whose values count how many reviews each person wrote."
   ]
  },
  {
   "cell_type": "code",
   "execution_count": 3,
   "id": "f8293bfc",
   "metadata": {
    "execution": {
     "iopub.execute_input": "2022-06-18T05:43:05.582906Z",
     "iopub.status.busy": "2022-06-18T05:43:05.581922Z",
     "iopub.status.idle": "2022-06-18T05:43:05.612318Z",
     "shell.execute_reply": "2022-06-18T05:43:05.610979Z"
    },
    "papermill": {
     "duration": 0.043811,
     "end_time": "2022-06-18T05:43:05.615342",
     "exception": false,
     "start_time": "2022-06-18T05:43:05.571531",
     "status": "completed"
    },
    "tags": []
   },
   "outputs": [
    {
     "data": {
      "application/javascript": [
       "parent.postMessage({\"jupyterEvent\": \"custom.exercise_interaction\", \"data\": {\"outcomeType\": 1, \"valueTowardsCompletion\": 0.16666666666666666, \"interactionType\": 1, \"questionType\": 1, \"questionId\": \"1_ReviewsWritten\", \"learnToolsVersion\": \"0.3.4\", \"failureMessage\": \"\", \"exceptionClass\": \"\", \"trace\": \"\"}}, \"*\")"
      ],
      "text/plain": [
       "<IPython.core.display.Javascript object>"
      ]
     },
     "metadata": {},
     "output_type": "display_data"
    },
    {
     "data": {
      "text/markdown": [
       "<span style=\"color:#33cc33\">Correct:</span> \n",
       "\n",
       "\n",
       "```python\n",
       "reviews_written = reviews.groupby('taster_twitter_handle').size()\n",
       "```\n",
       "or\n",
       "```python\n",
       "reviews_written = reviews.groupby('taster_twitter_handle').taster_twitter_handle.count()\n",
       "```\n"
      ],
      "text/plain": [
       "Correct: \n",
       "\n",
       "\n",
       "```python\n",
       "reviews_written = reviews.groupby('taster_twitter_handle').size()\n",
       "```\n",
       "or\n",
       "```python\n",
       "reviews_written = reviews.groupby('taster_twitter_handle').taster_twitter_handle.count()\n",
       "```"
      ]
     },
     "metadata": {},
     "output_type": "display_data"
    }
   ],
   "source": [
    "# Your code here\n",
    "reviews_written = reviews.groupby('taster_twitter_handle').size()\n",
    "# Check your answer\n",
    "q1.check()"
   ]
  },
  {
   "cell_type": "code",
   "execution_count": 4,
   "id": "7d58b2ca",
   "metadata": {
    "execution": {
     "iopub.execute_input": "2022-06-18T05:43:05.636690Z",
     "iopub.status.busy": "2022-06-18T05:43:05.635328Z",
     "iopub.status.idle": "2022-06-18T05:43:05.644216Z",
     "shell.execute_reply": "2022-06-18T05:43:05.643008Z"
    },
    "papermill": {
     "duration": 0.022067,
     "end_time": "2022-06-18T05:43:05.646745",
     "exception": false,
     "start_time": "2022-06-18T05:43:05.624678",
     "status": "completed"
    },
    "tags": []
   },
   "outputs": [
    {
     "data": {
      "text/plain": [
       "taster_twitter_handle\n",
       "@AnneInVino          3685\n",
       "@JoeCz               5147\n",
       "@bkfiona               27\n",
       "@gordone_cellars     4177\n",
       "@kerinokeefe        10776\n",
       "@laurbuzz            1835\n",
       "@mattkettmann        6332\n",
       "@paulgwine           9532\n",
       "@suskostrzewa        1085\n",
       "@vboone              9537\n",
       "@vossroger          25514\n",
       "@wawinereport        4966\n",
       "@wineschach         15134\n",
       "@winewchristina         6\n",
       "@worldwineguys       1005\n",
       "dtype: int64"
      ]
     },
     "execution_count": 4,
     "metadata": {},
     "output_type": "execute_result"
    }
   ],
   "source": [
    "reviews_written"
   ]
  },
  {
   "cell_type": "code",
   "execution_count": 5,
   "id": "d1696b72",
   "metadata": {
    "execution": {
     "iopub.execute_input": "2022-06-18T05:43:05.668566Z",
     "iopub.status.busy": "2022-06-18T05:43:05.667311Z",
     "iopub.status.idle": "2022-06-18T05:43:05.679402Z",
     "shell.execute_reply": "2022-06-18T05:43:05.678494Z"
    },
    "papermill": {
     "duration": 0.025555,
     "end_time": "2022-06-18T05:43:05.681953",
     "exception": false,
     "start_time": "2022-06-18T05:43:05.656398",
     "status": "completed"
    },
    "tags": []
   },
   "outputs": [
    {
     "data": {
      "application/javascript": [
       "parent.postMessage({\"jupyterEvent\": \"custom.exercise_interaction\", \"data\": {\"interactionType\": 2, \"questionType\": 1, \"questionId\": \"1_ReviewsWritten\", \"learnToolsVersion\": \"0.3.4\", \"valueTowardsCompletion\": 0.0, \"failureMessage\": \"\", \"exceptionClass\": \"\", \"trace\": \"\", \"outcomeType\": 4}}, \"*\")"
      ],
      "text/plain": [
       "<IPython.core.display.Javascript object>"
      ]
     },
     "metadata": {},
     "output_type": "display_data"
    },
    {
     "data": {
      "text/markdown": [
       "<span style=\"color:#3366cc\">Hint:</span> Use the `groupby` operation and `size()` (or `count()`)."
      ],
      "text/plain": [
       "Hint: Use the `groupby` operation and `size()` (or `count()`)."
      ]
     },
     "metadata": {},
     "output_type": "display_data"
    },
    {
     "data": {
      "application/javascript": [
       "parent.postMessage({\"jupyterEvent\": \"custom.exercise_interaction\", \"data\": {\"interactionType\": 3, \"questionType\": 1, \"questionId\": \"1_ReviewsWritten\", \"learnToolsVersion\": \"0.3.4\", \"valueTowardsCompletion\": 0.0, \"failureMessage\": \"\", \"exceptionClass\": \"\", \"trace\": \"\", \"outcomeType\": 4}}, \"*\")"
      ],
      "text/plain": [
       "<IPython.core.display.Javascript object>"
      ]
     },
     "metadata": {},
     "output_type": "display_data"
    },
    {
     "data": {
      "text/markdown": [
       "<span style=\"color:#33cc99\">Solution:</span> \n",
       "```python\n",
       "reviews_written = reviews.groupby('taster_twitter_handle').size()\n",
       "```\n",
       "or\n",
       "```python\n",
       "reviews_written = reviews.groupby('taster_twitter_handle').taster_twitter_handle.count()\n",
       "```\n"
      ],
      "text/plain": [
       "Solution: \n",
       "```python\n",
       "reviews_written = reviews.groupby('taster_twitter_handle').size()\n",
       "```\n",
       "or\n",
       "```python\n",
       "reviews_written = reviews.groupby('taster_twitter_handle').taster_twitter_handle.count()\n",
       "```"
      ]
     },
     "metadata": {},
     "output_type": "display_data"
    }
   ],
   "source": [
    "q1.hint()\n",
    "q1.solution()"
   ]
  },
  {
   "cell_type": "markdown",
   "id": "1f8e6633",
   "metadata": {
    "papermill": {
     "duration": 0.009645,
     "end_time": "2022-06-18T05:43:05.701252",
     "exception": false,
     "start_time": "2022-06-18T05:43:05.691607",
     "status": "completed"
    },
    "tags": []
   },
   "source": [
    "## 2.\n",
    "What is the best wine I can buy for a given amount of money? Create a `Series` whose index is wine prices and whose values is the maximum number of points a wine costing that much was given in a review. Sort the values by price, ascending (so that `4.0` dollars is at the top and `3300.0` dollars is at the bottom)."
   ]
  },
  {
   "cell_type": "code",
   "execution_count": 6,
   "id": "ad352cc3",
   "metadata": {
    "execution": {
     "iopub.execute_input": "2022-06-18T05:43:05.722942Z",
     "iopub.status.busy": "2022-06-18T05:43:05.721766Z",
     "iopub.status.idle": "2022-06-18T05:43:05.736637Z",
     "shell.execute_reply": "2022-06-18T05:43:05.735932Z"
    },
    "papermill": {
     "duration": 0.027475,
     "end_time": "2022-06-18T05:43:05.738449",
     "exception": false,
     "start_time": "2022-06-18T05:43:05.710974",
     "status": "completed"
    },
    "tags": []
   },
   "outputs": [
    {
     "data": {
      "application/javascript": [
       "parent.postMessage({\"jupyterEvent\": \"custom.exercise_interaction\", \"data\": {\"outcomeType\": 1, \"valueTowardsCompletion\": 0.16666666666666666, \"interactionType\": 1, \"questionType\": 1, \"questionId\": \"2_BestRatingPerPrice\", \"learnToolsVersion\": \"0.3.4\", \"failureMessage\": \"\", \"exceptionClass\": \"\", \"trace\": \"\"}}, \"*\")"
      ],
      "text/plain": [
       "<IPython.core.display.Javascript object>"
      ]
     },
     "metadata": {},
     "output_type": "display_data"
    },
    {
     "data": {
      "text/markdown": [
       "<span style=\"color:#33cc33\">Correct</span>"
      ],
      "text/plain": [
       "Correct"
      ]
     },
     "metadata": {},
     "output_type": "display_data"
    }
   ],
   "source": [
    "best_rating_per_price = reviews.groupby('price')['points'].max().sort_index()\n",
    "# Check your answer\n",
    "q2.check()"
   ]
  },
  {
   "cell_type": "code",
   "execution_count": 7,
   "id": "7616d1d4",
   "metadata": {
    "execution": {
     "iopub.execute_input": "2022-06-18T05:43:05.764623Z",
     "iopub.status.busy": "2022-06-18T05:43:05.764184Z",
     "iopub.status.idle": "2022-06-18T05:43:05.774581Z",
     "shell.execute_reply": "2022-06-18T05:43:05.773323Z"
    },
    "papermill": {
     "duration": 0.028931,
     "end_time": "2022-06-18T05:43:05.777108",
     "exception": false,
     "start_time": "2022-06-18T05:43:05.748177",
     "status": "completed"
    },
    "tags": []
   },
   "outputs": [
    {
     "data": {
      "text/plain": [
       "price\n",
       "4.0     86\n",
       "5.0     87\n",
       "6.0     88\n",
       "7.0     91\n",
       "8.0     91\n",
       "9.0     91\n",
       "10.0    91\n",
       "11.0    92\n",
       "12.0    93\n",
       "13.0    94\n",
       "14.0    94\n",
       "15.0    93\n",
       "16.0    94\n",
       "17.0    93\n",
       "18.0    94\n",
       "Name: points, dtype: int64"
      ]
     },
     "execution_count": 7,
     "metadata": {},
     "output_type": "execute_result"
    }
   ],
   "source": [
    "best_rating_per_price.head(15)"
   ]
  },
  {
   "cell_type": "code",
   "execution_count": 8,
   "id": "1c194aea",
   "metadata": {
    "execution": {
     "iopub.execute_input": "2022-06-18T05:43:05.805787Z",
     "iopub.status.busy": "2022-06-18T05:43:05.804293Z",
     "iopub.status.idle": "2022-06-18T05:43:05.811365Z",
     "shell.execute_reply": "2022-06-18T05:43:05.810232Z"
    },
    "papermill": {
     "duration": 0.024968,
     "end_time": "2022-06-18T05:43:05.813508",
     "exception": false,
     "start_time": "2022-06-18T05:43:05.788540",
     "status": "completed"
    },
    "tags": []
   },
   "outputs": [],
   "source": [
    "#q2.hint()\n",
    "#q2.solution()"
   ]
  },
  {
   "cell_type": "markdown",
   "id": "9ba23e47",
   "metadata": {
    "papermill": {
     "duration": 0.012913,
     "end_time": "2022-06-18T05:43:05.838627",
     "exception": false,
     "start_time": "2022-06-18T05:43:05.825714",
     "status": "completed"
    },
    "tags": []
   },
   "source": [
    "## 3.\n",
    "What are the minimum and maximum prices for each `variety` of wine? Create a `DataFrame` whose index is the `variety` category from the dataset and whose values are the `min` and `max` values thereof."
   ]
  },
  {
   "cell_type": "code",
   "execution_count": 9,
   "id": "7e4d6eac",
   "metadata": {
    "execution": {
     "iopub.execute_input": "2022-06-18T05:43:05.862313Z",
     "iopub.status.busy": "2022-06-18T05:43:05.861844Z",
     "iopub.status.idle": "2022-06-18T05:43:05.893728Z",
     "shell.execute_reply": "2022-06-18T05:43:05.892750Z"
    },
    "papermill": {
     "duration": 0.046798,
     "end_time": "2022-06-18T05:43:05.896413",
     "exception": false,
     "start_time": "2022-06-18T05:43:05.849615",
     "status": "completed"
    },
    "tags": []
   },
   "outputs": [
    {
     "data": {
      "application/javascript": [
       "parent.postMessage({\"jupyterEvent\": \"custom.exercise_interaction\", \"data\": {\"outcomeType\": 1, \"valueTowardsCompletion\": 0.16666666666666666, \"interactionType\": 1, \"questionType\": 1, \"questionId\": \"3_PriceExtremes\", \"learnToolsVersion\": \"0.3.4\", \"failureMessage\": \"\", \"exceptionClass\": \"\", \"trace\": \"\"}}, \"*\")"
      ],
      "text/plain": [
       "<IPython.core.display.Javascript object>"
      ]
     },
     "metadata": {},
     "output_type": "display_data"
    },
    {
     "data": {
      "text/markdown": [
       "<span style=\"color:#33cc33\">Correct</span>"
      ],
      "text/plain": [
       "Correct"
      ]
     },
     "metadata": {},
     "output_type": "display_data"
    }
   ],
   "source": [
    "price_extremes = reviews.groupby('variety').price.agg([min,max])\n",
    "\n",
    "# Check your answer\n",
    "q3.check()"
   ]
  },
  {
   "cell_type": "code",
   "execution_count": 10,
   "id": "23a1e422",
   "metadata": {
    "execution": {
     "iopub.execute_input": "2022-06-18T05:43:05.920461Z",
     "iopub.status.busy": "2022-06-18T05:43:05.919985Z",
     "iopub.status.idle": "2022-06-18T05:43:05.936952Z",
     "shell.execute_reply": "2022-06-18T05:43:05.936049Z"
    },
    "papermill": {
     "duration": 0.035946,
     "end_time": "2022-06-18T05:43:05.943115",
     "exception": false,
     "start_time": "2022-06-18T05:43:05.907169",
     "status": "completed"
    },
    "tags": []
   },
   "outputs": [
    {
     "data": {
      "text/html": [
       "<div>\n",
       "<style scoped>\n",
       "    .dataframe tbody tr th:only-of-type {\n",
       "        vertical-align: middle;\n",
       "    }\n",
       "\n",
       "    .dataframe tbody tr th {\n",
       "        vertical-align: top;\n",
       "    }\n",
       "\n",
       "    .dataframe thead th {\n",
       "        text-align: right;\n",
       "    }\n",
       "</style>\n",
       "<table border=\"1\" class=\"dataframe\">\n",
       "  <thead>\n",
       "    <tr style=\"text-align: right;\">\n",
       "      <th></th>\n",
       "      <th>min</th>\n",
       "      <th>max</th>\n",
       "    </tr>\n",
       "    <tr>\n",
       "      <th>variety</th>\n",
       "      <th></th>\n",
       "      <th></th>\n",
       "    </tr>\n",
       "  </thead>\n",
       "  <tbody>\n",
       "    <tr>\n",
       "      <th>Abouriou</th>\n",
       "      <td>15.0</td>\n",
       "      <td>75.0</td>\n",
       "    </tr>\n",
       "    <tr>\n",
       "      <th>Agiorgitiko</th>\n",
       "      <td>10.0</td>\n",
       "      <td>66.0</td>\n",
       "    </tr>\n",
       "    <tr>\n",
       "      <th>Aglianico</th>\n",
       "      <td>6.0</td>\n",
       "      <td>180.0</td>\n",
       "    </tr>\n",
       "    <tr>\n",
       "      <th>Aidani</th>\n",
       "      <td>27.0</td>\n",
       "      <td>27.0</td>\n",
       "    </tr>\n",
       "    <tr>\n",
       "      <th>Airen</th>\n",
       "      <td>8.0</td>\n",
       "      <td>10.0</td>\n",
       "    </tr>\n",
       "    <tr>\n",
       "      <th>...</th>\n",
       "      <td>...</td>\n",
       "      <td>...</td>\n",
       "    </tr>\n",
       "    <tr>\n",
       "      <th>Zinfandel</th>\n",
       "      <td>5.0</td>\n",
       "      <td>100.0</td>\n",
       "    </tr>\n",
       "    <tr>\n",
       "      <th>Zlahtina</th>\n",
       "      <td>13.0</td>\n",
       "      <td>16.0</td>\n",
       "    </tr>\n",
       "    <tr>\n",
       "      <th>Zweigelt</th>\n",
       "      <td>9.0</td>\n",
       "      <td>70.0</td>\n",
       "    </tr>\n",
       "    <tr>\n",
       "      <th>Çalkarası</th>\n",
       "      <td>19.0</td>\n",
       "      <td>19.0</td>\n",
       "    </tr>\n",
       "    <tr>\n",
       "      <th>Žilavka</th>\n",
       "      <td>15.0</td>\n",
       "      <td>15.0</td>\n",
       "    </tr>\n",
       "  </tbody>\n",
       "</table>\n",
       "<p>707 rows × 2 columns</p>\n",
       "</div>"
      ],
      "text/plain": [
       "              min    max\n",
       "variety                 \n",
       "Abouriou     15.0   75.0\n",
       "Agiorgitiko  10.0   66.0\n",
       "Aglianico     6.0  180.0\n",
       "Aidani       27.0   27.0\n",
       "Airen         8.0   10.0\n",
       "...           ...    ...\n",
       "Zinfandel     5.0  100.0\n",
       "Zlahtina     13.0   16.0\n",
       "Zweigelt      9.0   70.0\n",
       "Çalkarası    19.0   19.0\n",
       "Žilavka      15.0   15.0\n",
       "\n",
       "[707 rows x 2 columns]"
      ]
     },
     "execution_count": 10,
     "metadata": {},
     "output_type": "execute_result"
    }
   ],
   "source": [
    "price_extremes"
   ]
  },
  {
   "cell_type": "code",
   "execution_count": 11,
   "id": "86fe06f1",
   "metadata": {
    "execution": {
     "iopub.execute_input": "2022-06-18T05:43:05.977872Z",
     "iopub.status.busy": "2022-06-18T05:43:05.977070Z",
     "iopub.status.idle": "2022-06-18T05:43:05.981837Z",
     "shell.execute_reply": "2022-06-18T05:43:05.980873Z"
    },
    "papermill": {
     "duration": 0.025521,
     "end_time": "2022-06-18T05:43:05.984933",
     "exception": false,
     "start_time": "2022-06-18T05:43:05.959412",
     "status": "completed"
    },
    "tags": []
   },
   "outputs": [],
   "source": [
    "#q3.hint()\n",
    "#q3.solution()"
   ]
  },
  {
   "cell_type": "markdown",
   "id": "d6fe7421",
   "metadata": {
    "papermill": {
     "duration": 0.012765,
     "end_time": "2022-06-18T05:43:06.014275",
     "exception": false,
     "start_time": "2022-06-18T05:43:06.001510",
     "status": "completed"
    },
    "tags": []
   },
   "source": [
    "## 4.\n",
    "What are the most expensive wine varieties? Create a variable `sorted_varieties` containing a copy of the dataframe from the previous question where varieties are sorted in descending order based on minimum price, then on maximum price (to break ties)."
   ]
  },
  {
   "cell_type": "code",
   "execution_count": 12,
   "id": "34ef3fee",
   "metadata": {
    "execution": {
     "iopub.execute_input": "2022-06-18T05:43:06.040276Z",
     "iopub.status.busy": "2022-06-18T05:43:06.039801Z",
     "iopub.status.idle": "2022-06-18T05:43:06.054819Z",
     "shell.execute_reply": "2022-06-18T05:43:06.053870Z"
    },
    "papermill": {
     "duration": 0.030951,
     "end_time": "2022-06-18T05:43:06.057053",
     "exception": false,
     "start_time": "2022-06-18T05:43:06.026102",
     "status": "completed"
    },
    "tags": []
   },
   "outputs": [
    {
     "data": {
      "application/javascript": [
       "parent.postMessage({\"jupyterEvent\": \"custom.exercise_interaction\", \"data\": {\"outcomeType\": 1, \"valueTowardsCompletion\": 0.16666666666666666, \"interactionType\": 1, \"questionType\": 1, \"questionId\": \"4_SortedVarieties\", \"learnToolsVersion\": \"0.3.4\", \"failureMessage\": \"\", \"exceptionClass\": \"\", \"trace\": \"\"}}, \"*\")"
      ],
      "text/plain": [
       "<IPython.core.display.Javascript object>"
      ]
     },
     "metadata": {},
     "output_type": "display_data"
    },
    {
     "data": {
      "text/markdown": [
       "<span style=\"color:#33cc33\">Correct</span>"
      ],
      "text/plain": [
       "Correct"
      ]
     },
     "metadata": {},
     "output_type": "display_data"
    }
   ],
   "source": [
    "sorted_varieties = price_extremes.sort_values(by=['min','max'], ascending=False)\n",
    "\n",
    "# Check your answer\n",
    "q4.check()"
   ]
  },
  {
   "cell_type": "code",
   "execution_count": 13,
   "id": "bb76121f",
   "metadata": {
    "execution": {
     "iopub.execute_input": "2022-06-18T05:43:06.089605Z",
     "iopub.status.busy": "2022-06-18T05:43:06.088388Z",
     "iopub.status.idle": "2022-06-18T05:43:06.106363Z",
     "shell.execute_reply": "2022-06-18T05:43:06.105422Z"
    },
    "papermill": {
     "duration": 0.038703,
     "end_time": "2022-06-18T05:43:06.108523",
     "exception": false,
     "start_time": "2022-06-18T05:43:06.069820",
     "status": "completed"
    },
    "tags": []
   },
   "outputs": [
    {
     "data": {
      "text/html": [
       "<div>\n",
       "<style scoped>\n",
       "    .dataframe tbody tr th:only-of-type {\n",
       "        vertical-align: middle;\n",
       "    }\n",
       "\n",
       "    .dataframe tbody tr th {\n",
       "        vertical-align: top;\n",
       "    }\n",
       "\n",
       "    .dataframe thead th {\n",
       "        text-align: right;\n",
       "    }\n",
       "</style>\n",
       "<table border=\"1\" class=\"dataframe\">\n",
       "  <thead>\n",
       "    <tr style=\"text-align: right;\">\n",
       "      <th></th>\n",
       "      <th>min</th>\n",
       "      <th>max</th>\n",
       "    </tr>\n",
       "    <tr>\n",
       "      <th>variety</th>\n",
       "      <th></th>\n",
       "      <th></th>\n",
       "    </tr>\n",
       "  </thead>\n",
       "  <tbody>\n",
       "    <tr>\n",
       "      <th>Ramisco</th>\n",
       "      <td>495.0</td>\n",
       "      <td>495.0</td>\n",
       "    </tr>\n",
       "    <tr>\n",
       "      <th>Terrantez</th>\n",
       "      <td>236.0</td>\n",
       "      <td>236.0</td>\n",
       "    </tr>\n",
       "    <tr>\n",
       "      <th>Francisa</th>\n",
       "      <td>160.0</td>\n",
       "      <td>160.0</td>\n",
       "    </tr>\n",
       "    <tr>\n",
       "      <th>Rosenmuskateller</th>\n",
       "      <td>150.0</td>\n",
       "      <td>150.0</td>\n",
       "    </tr>\n",
       "    <tr>\n",
       "      <th>Tinta Negra Mole</th>\n",
       "      <td>112.0</td>\n",
       "      <td>112.0</td>\n",
       "    </tr>\n",
       "    <tr>\n",
       "      <th>...</th>\n",
       "      <td>...</td>\n",
       "      <td>...</td>\n",
       "    </tr>\n",
       "    <tr>\n",
       "      <th>Roscetto</th>\n",
       "      <td>NaN</td>\n",
       "      <td>NaN</td>\n",
       "    </tr>\n",
       "    <tr>\n",
       "      <th>Sauvignon Blanc-Sauvignon Gris</th>\n",
       "      <td>NaN</td>\n",
       "      <td>NaN</td>\n",
       "    </tr>\n",
       "    <tr>\n",
       "      <th>Tempranillo-Malbec</th>\n",
       "      <td>NaN</td>\n",
       "      <td>NaN</td>\n",
       "    </tr>\n",
       "    <tr>\n",
       "      <th>Vital</th>\n",
       "      <td>NaN</td>\n",
       "      <td>NaN</td>\n",
       "    </tr>\n",
       "    <tr>\n",
       "      <th>Zelen</th>\n",
       "      <td>NaN</td>\n",
       "      <td>NaN</td>\n",
       "    </tr>\n",
       "  </tbody>\n",
       "</table>\n",
       "<p>707 rows × 2 columns</p>\n",
       "</div>"
      ],
      "text/plain": [
       "                                  min    max\n",
       "variety                                     \n",
       "Ramisco                         495.0  495.0\n",
       "Terrantez                       236.0  236.0\n",
       "Francisa                        160.0  160.0\n",
       "Rosenmuskateller                150.0  150.0\n",
       "Tinta Negra Mole                112.0  112.0\n",
       "...                               ...    ...\n",
       "Roscetto                          NaN    NaN\n",
       "Sauvignon Blanc-Sauvignon Gris    NaN    NaN\n",
       "Tempranillo-Malbec                NaN    NaN\n",
       "Vital                             NaN    NaN\n",
       "Zelen                             NaN    NaN\n",
       "\n",
       "[707 rows x 2 columns]"
      ]
     },
     "execution_count": 13,
     "metadata": {},
     "output_type": "execute_result"
    }
   ],
   "source": [
    "sorted_varieties"
   ]
  },
  {
   "cell_type": "code",
   "execution_count": 14,
   "id": "ed02fc75",
   "metadata": {
    "execution": {
     "iopub.execute_input": "2022-06-18T05:43:06.136014Z",
     "iopub.status.busy": "2022-06-18T05:43:06.135270Z",
     "iopub.status.idle": "2022-06-18T05:43:06.139446Z",
     "shell.execute_reply": "2022-06-18T05:43:06.138746Z"
    },
    "papermill": {
     "duration": 0.021834,
     "end_time": "2022-06-18T05:43:06.142508",
     "exception": false,
     "start_time": "2022-06-18T05:43:06.120674",
     "status": "completed"
    },
    "tags": []
   },
   "outputs": [],
   "source": [
    "#q4.hint()\n",
    "#q4.solution()"
   ]
  },
  {
   "cell_type": "markdown",
   "id": "104a79a1",
   "metadata": {
    "papermill": {
     "duration": 0.013143,
     "end_time": "2022-06-18T05:43:06.167806",
     "exception": false,
     "start_time": "2022-06-18T05:43:06.154663",
     "status": "completed"
    },
    "tags": []
   },
   "source": [
    "## 5.\n",
    "Create a `Series` whose index is reviewers and whose values is the average review score given out by that reviewer. Hint: you will need the `taster_name` and `points` columns."
   ]
  },
  {
   "cell_type": "code",
   "execution_count": 15,
   "id": "b212ce99",
   "metadata": {
    "execution": {
     "iopub.execute_input": "2022-06-18T05:43:06.196200Z",
     "iopub.status.busy": "2022-06-18T05:43:06.195648Z",
     "iopub.status.idle": "2022-06-18T05:43:06.220294Z",
     "shell.execute_reply": "2022-06-18T05:43:06.219314Z"
    },
    "papermill": {
     "duration": 0.040884,
     "end_time": "2022-06-18T05:43:06.222352",
     "exception": false,
     "start_time": "2022-06-18T05:43:06.181468",
     "status": "completed"
    },
    "tags": []
   },
   "outputs": [
    {
     "data": {
      "text/html": [
       "<div>\n",
       "<style scoped>\n",
       "    .dataframe tbody tr th:only-of-type {\n",
       "        vertical-align: middle;\n",
       "    }\n",
       "\n",
       "    .dataframe tbody tr th {\n",
       "        vertical-align: top;\n",
       "    }\n",
       "\n",
       "    .dataframe thead th {\n",
       "        text-align: right;\n",
       "    }\n",
       "</style>\n",
       "<table border=\"1\" class=\"dataframe\">\n",
       "  <thead>\n",
       "    <tr style=\"text-align: right;\">\n",
       "      <th></th>\n",
       "      <th>country</th>\n",
       "      <th>description</th>\n",
       "      <th>designation</th>\n",
       "      <th>points</th>\n",
       "      <th>price</th>\n",
       "      <th>province</th>\n",
       "      <th>region_1</th>\n",
       "      <th>region_2</th>\n",
       "      <th>taster_name</th>\n",
       "      <th>taster_twitter_handle</th>\n",
       "      <th>title</th>\n",
       "      <th>variety</th>\n",
       "      <th>winery</th>\n",
       "    </tr>\n",
       "  </thead>\n",
       "  <tbody>\n",
       "    <tr>\n",
       "      <th>0</th>\n",
       "      <td>Italy</td>\n",
       "      <td>Aromas include tropical fruit, broom, brimston...</td>\n",
       "      <td>Vulkà Bianco</td>\n",
       "      <td>87</td>\n",
       "      <td>NaN</td>\n",
       "      <td>Sicily &amp; Sardinia</td>\n",
       "      <td>Etna</td>\n",
       "      <td>NaN</td>\n",
       "      <td>Kerin O’Keefe</td>\n",
       "      <td>@kerinokeefe</td>\n",
       "      <td>Nicosia 2013 Vulkà Bianco  (Etna)</td>\n",
       "      <td>White Blend</td>\n",
       "      <td>Nicosia</td>\n",
       "    </tr>\n",
       "    <tr>\n",
       "      <th>1</th>\n",
       "      <td>Portugal</td>\n",
       "      <td>This is ripe and fruity, a wine that is smooth...</td>\n",
       "      <td>Avidagos</td>\n",
       "      <td>87</td>\n",
       "      <td>15.0</td>\n",
       "      <td>Douro</td>\n",
       "      <td>NaN</td>\n",
       "      <td>NaN</td>\n",
       "      <td>Roger Voss</td>\n",
       "      <td>@vossroger</td>\n",
       "      <td>Quinta dos Avidagos 2011 Avidagos Red (Douro)</td>\n",
       "      <td>Portuguese Red</td>\n",
       "      <td>Quinta dos Avidagos</td>\n",
       "    </tr>\n",
       "    <tr>\n",
       "      <th>2</th>\n",
       "      <td>US</td>\n",
       "      <td>Tart and snappy, the flavors of lime flesh and...</td>\n",
       "      <td>NaN</td>\n",
       "      <td>87</td>\n",
       "      <td>14.0</td>\n",
       "      <td>Oregon</td>\n",
       "      <td>Willamette Valley</td>\n",
       "      <td>Willamette Valley</td>\n",
       "      <td>Paul Gregutt</td>\n",
       "      <td>@paulgwine</td>\n",
       "      <td>Rainstorm 2013 Pinot Gris (Willamette Valley)</td>\n",
       "      <td>Pinot Gris</td>\n",
       "      <td>Rainstorm</td>\n",
       "    </tr>\n",
       "    <tr>\n",
       "      <th>3</th>\n",
       "      <td>US</td>\n",
       "      <td>Pineapple rind, lemon pith and orange blossom ...</td>\n",
       "      <td>Reserve Late Harvest</td>\n",
       "      <td>87</td>\n",
       "      <td>13.0</td>\n",
       "      <td>Michigan</td>\n",
       "      <td>Lake Michigan Shore</td>\n",
       "      <td>NaN</td>\n",
       "      <td>Alexander Peartree</td>\n",
       "      <td>NaN</td>\n",
       "      <td>St. Julian 2013 Reserve Late Harvest Riesling ...</td>\n",
       "      <td>Riesling</td>\n",
       "      <td>St. Julian</td>\n",
       "    </tr>\n",
       "    <tr>\n",
       "      <th>4</th>\n",
       "      <td>US</td>\n",
       "      <td>Much like the regular bottling from 2012, this...</td>\n",
       "      <td>Vintner's Reserve Wild Child Block</td>\n",
       "      <td>87</td>\n",
       "      <td>65.0</td>\n",
       "      <td>Oregon</td>\n",
       "      <td>Willamette Valley</td>\n",
       "      <td>Willamette Valley</td>\n",
       "      <td>Paul Gregutt</td>\n",
       "      <td>@paulgwine</td>\n",
       "      <td>Sweet Cheeks 2012 Vintner's Reserve Wild Child...</td>\n",
       "      <td>Pinot Noir</td>\n",
       "      <td>Sweet Cheeks</td>\n",
       "    </tr>\n",
       "  </tbody>\n",
       "</table>\n",
       "</div>"
      ],
      "text/plain": [
       "    country                                        description  \\\n",
       "0     Italy  Aromas include tropical fruit, broom, brimston...   \n",
       "1  Portugal  This is ripe and fruity, a wine that is smooth...   \n",
       "2        US  Tart and snappy, the flavors of lime flesh and...   \n",
       "3        US  Pineapple rind, lemon pith and orange blossom ...   \n",
       "4        US  Much like the regular bottling from 2012, this...   \n",
       "\n",
       "                          designation  points  price           province  \\\n",
       "0                        Vulkà Bianco      87    NaN  Sicily & Sardinia   \n",
       "1                            Avidagos      87   15.0              Douro   \n",
       "2                                 NaN      87   14.0             Oregon   \n",
       "3                Reserve Late Harvest      87   13.0           Michigan   \n",
       "4  Vintner's Reserve Wild Child Block      87   65.0             Oregon   \n",
       "\n",
       "              region_1           region_2         taster_name  \\\n",
       "0                 Etna                NaN       Kerin O’Keefe   \n",
       "1                  NaN                NaN          Roger Voss   \n",
       "2    Willamette Valley  Willamette Valley        Paul Gregutt   \n",
       "3  Lake Michigan Shore                NaN  Alexander Peartree   \n",
       "4    Willamette Valley  Willamette Valley        Paul Gregutt   \n",
       "\n",
       "  taster_twitter_handle                                              title  \\\n",
       "0          @kerinokeefe                  Nicosia 2013 Vulkà Bianco  (Etna)   \n",
       "1            @vossroger      Quinta dos Avidagos 2011 Avidagos Red (Douro)   \n",
       "2           @paulgwine       Rainstorm 2013 Pinot Gris (Willamette Valley)   \n",
       "3                   NaN  St. Julian 2013 Reserve Late Harvest Riesling ...   \n",
       "4           @paulgwine   Sweet Cheeks 2012 Vintner's Reserve Wild Child...   \n",
       "\n",
       "          variety               winery  \n",
       "0     White Blend              Nicosia  \n",
       "1  Portuguese Red  Quinta dos Avidagos  \n",
       "2      Pinot Gris            Rainstorm  \n",
       "3        Riesling           St. Julian  \n",
       "4      Pinot Noir         Sweet Cheeks  "
      ]
     },
     "execution_count": 15,
     "metadata": {},
     "output_type": "execute_result"
    }
   ],
   "source": [
    "reviews.head()"
   ]
  },
  {
   "cell_type": "code",
   "execution_count": 16,
   "id": "d08aa6c5",
   "metadata": {
    "execution": {
     "iopub.execute_input": "2022-06-18T05:43:06.249558Z",
     "iopub.status.busy": "2022-06-18T05:43:06.248717Z",
     "iopub.status.idle": "2022-06-18T05:43:06.281123Z",
     "shell.execute_reply": "2022-06-18T05:43:06.280311Z"
    },
    "papermill": {
     "duration": 0.049762,
     "end_time": "2022-06-18T05:43:06.284407",
     "exception": false,
     "start_time": "2022-06-18T05:43:06.234645",
     "status": "completed"
    },
    "tags": []
   },
   "outputs": [
    {
     "data": {
      "application/javascript": [
       "parent.postMessage({\"jupyterEvent\": \"custom.exercise_interaction\", \"data\": {\"outcomeType\": 1, \"valueTowardsCompletion\": 0.16666666666666666, \"interactionType\": 1, \"questionType\": 1, \"questionId\": \"5_ReviewerMeanRatings\", \"learnToolsVersion\": \"0.3.4\", \"failureMessage\": \"\", \"exceptionClass\": \"\", \"trace\": \"\"}}, \"*\")"
      ],
      "text/plain": [
       "<IPython.core.display.Javascript object>"
      ]
     },
     "metadata": {},
     "output_type": "display_data"
    },
    {
     "data": {
      "text/markdown": [
       "<span style=\"color:#33cc33\">Correct</span>"
      ],
      "text/plain": [
       "Correct"
      ]
     },
     "metadata": {},
     "output_type": "display_data"
    }
   ],
   "source": [
    "reviewer_mean_ratings = reviews.groupby('taster_name')['points'].mean()\n",
    "\n",
    "# Check your answer\n",
    "q5.check()"
   ]
  },
  {
   "cell_type": "code",
   "execution_count": 17,
   "id": "214d6403",
   "metadata": {
    "execution": {
     "iopub.execute_input": "2022-06-18T05:43:06.317389Z",
     "iopub.status.busy": "2022-06-18T05:43:06.316010Z",
     "iopub.status.idle": "2022-06-18T05:43:06.325270Z",
     "shell.execute_reply": "2022-06-18T05:43:06.324352Z"
    },
    "papermill": {
     "duration": 0.025139,
     "end_time": "2022-06-18T05:43:06.327241",
     "exception": false,
     "start_time": "2022-06-18T05:43:06.302102",
     "status": "completed"
    },
    "tags": []
   },
   "outputs": [
    {
     "data": {
      "text/plain": [
       "taster_name\n",
       "Alexander Peartree    85.855422\n",
       "Anna Lee C. Iijima    88.415629\n",
       "Anne Krebiehl MW      90.562551\n",
       "Carrie Dykes          86.395683\n",
       "Christina Pickard     87.833333\n",
       "Fiona Adams           86.888889\n",
       "Jeff Jenssen          88.319756\n",
       "Jim Gordon            88.626287\n",
       "Joe Czerwinski        88.536235\n",
       "Kerin O’Keefe         88.867947\n",
       "Lauren Buzzeo         87.739510\n",
       "Matt Kettmann         90.008686\n",
       "Michael Schachner     86.907493\n",
       "Mike DeSimone         89.101167\n",
       "Paul Gregutt          89.082564\n",
       "Roger Voss            88.708003\n",
       "Sean P. Sullivan      88.755739\n",
       "Susan Kostrzewa       86.609217\n",
       "Virginie Boone        89.213379\n",
       "Name: points, dtype: float64"
      ]
     },
     "execution_count": 17,
     "metadata": {},
     "output_type": "execute_result"
    }
   ],
   "source": [
    "reviewer_mean_ratings"
   ]
  },
  {
   "cell_type": "code",
   "execution_count": 18,
   "id": "647285b0",
   "metadata": {
    "execution": {
     "iopub.execute_input": "2022-06-18T05:43:06.354872Z",
     "iopub.status.busy": "2022-06-18T05:43:06.353740Z",
     "iopub.status.idle": "2022-06-18T05:43:06.367187Z",
     "shell.execute_reply": "2022-06-18T05:43:06.366199Z"
    },
    "papermill": {
     "duration": 0.030274,
     "end_time": "2022-06-18T05:43:06.370107",
     "exception": false,
     "start_time": "2022-06-18T05:43:06.339833",
     "status": "completed"
    },
    "tags": []
   },
   "outputs": [
    {
     "data": {
      "application/javascript": [
       "parent.postMessage({\"jupyterEvent\": \"custom.exercise_interaction\", \"data\": {\"interactionType\": 2, \"questionType\": 1, \"questionId\": \"5_ReviewerMeanRatings\", \"learnToolsVersion\": \"0.3.4\", \"valueTowardsCompletion\": 0.0, \"failureMessage\": \"\", \"exceptionClass\": \"\", \"trace\": \"\", \"outcomeType\": 4}}, \"*\")"
      ],
      "text/plain": [
       "<IPython.core.display.Javascript object>"
      ]
     },
     "metadata": {},
     "output_type": "display_data"
    },
    {
     "data": {
      "text/markdown": [
       "<span style=\"color:#3366cc\">Hint:</span> Use `mean()`."
      ],
      "text/plain": [
       "Hint: Use `mean()`."
      ]
     },
     "metadata": {},
     "output_type": "display_data"
    },
    {
     "data": {
      "application/javascript": [
       "parent.postMessage({\"jupyterEvent\": \"custom.exercise_interaction\", \"data\": {\"interactionType\": 3, \"questionType\": 1, \"questionId\": \"5_ReviewerMeanRatings\", \"learnToolsVersion\": \"0.3.4\", \"valueTowardsCompletion\": 0.0, \"failureMessage\": \"\", \"exceptionClass\": \"\", \"trace\": \"\", \"outcomeType\": 4}}, \"*\")"
      ],
      "text/plain": [
       "<IPython.core.display.Javascript object>"
      ]
     },
     "metadata": {},
     "output_type": "display_data"
    },
    {
     "data": {
      "text/markdown": [
       "<span style=\"color:#33cc99\">Solution:</span> \n",
       "```python\n",
       "reviewer_mean_ratings = reviews.groupby('taster_name').points.mean()\n",
       "```"
      ],
      "text/plain": [
       "Solution: \n",
       "```python\n",
       "reviewer_mean_ratings = reviews.groupby('taster_name').points.mean()\n",
       "```"
      ]
     },
     "metadata": {},
     "output_type": "display_data"
    }
   ],
   "source": [
    "q5.hint()\n",
    "q5.solution()"
   ]
  },
  {
   "cell_type": "markdown",
   "id": "64a9426f",
   "metadata": {
    "papermill": {
     "duration": 0.012885,
     "end_time": "2022-06-18T05:43:06.400436",
     "exception": false,
     "start_time": "2022-06-18T05:43:06.387551",
     "status": "completed"
    },
    "tags": []
   },
   "source": [
    "Are there significant differences in the average scores assigned by the various reviewers? Run the cell below to use the `describe()` method to see a summary of the range of values."
   ]
  },
  {
   "cell_type": "code",
   "execution_count": 19,
   "id": "64b7626e",
   "metadata": {
    "execution": {
     "iopub.execute_input": "2022-06-18T05:43:06.429204Z",
     "iopub.status.busy": "2022-06-18T05:43:06.428003Z",
     "iopub.status.idle": "2022-06-18T05:43:06.440648Z",
     "shell.execute_reply": "2022-06-18T05:43:06.439872Z"
    },
    "papermill": {
     "duration": 0.029622,
     "end_time": "2022-06-18T05:43:06.443150",
     "exception": false,
     "start_time": "2022-06-18T05:43:06.413528",
     "status": "completed"
    },
    "tags": []
   },
   "outputs": [
    {
     "data": {
      "text/plain": [
       "count    19.000000\n",
       "mean     88.233026\n",
       "std       1.243610\n",
       "min      85.855422\n",
       "25%      87.323501\n",
       "50%      88.536235\n",
       "75%      88.975256\n",
       "max      90.562551\n",
       "Name: points, dtype: float64"
      ]
     },
     "execution_count": 19,
     "metadata": {},
     "output_type": "execute_result"
    }
   ],
   "source": [
    "reviewer_mean_ratings.describe()"
   ]
  },
  {
   "cell_type": "markdown",
   "id": "c8cd35f2",
   "metadata": {
    "papermill": {
     "duration": 0.012797,
     "end_time": "2022-06-18T05:43:06.474520",
     "exception": false,
     "start_time": "2022-06-18T05:43:06.461723",
     "status": "completed"
    },
    "tags": []
   },
   "source": [
    "## 6.\n",
    "What combination of countries and varieties are most common? Create a `Series` whose index is a `MultiIndex`of `{country, variety}` pairs. For example, a pinot noir produced in the US should map to `{\"US\", \"Pinot Noir\"}`. Sort the values in the `Series` in descending order based on wine count."
   ]
  },
  {
   "cell_type": "code",
   "execution_count": 20,
   "id": "2cccf9f0",
   "metadata": {
    "execution": {
     "iopub.execute_input": "2022-06-18T05:43:06.503324Z",
     "iopub.status.busy": "2022-06-18T05:43:06.502468Z",
     "iopub.status.idle": "2022-06-18T05:43:06.552950Z",
     "shell.execute_reply": "2022-06-18T05:43:06.551987Z"
    },
    "papermill": {
     "duration": 0.067352,
     "end_time": "2022-06-18T05:43:06.555111",
     "exception": false,
     "start_time": "2022-06-18T05:43:06.487759",
     "status": "completed"
    },
    "tags": []
   },
   "outputs": [
    {
     "data": {
      "application/javascript": [
       "parent.postMessage({\"jupyterEvent\": \"custom.exercise_interaction\", \"data\": {\"outcomeType\": 1, \"valueTowardsCompletion\": 0.16666666666666666, \"interactionType\": 1, \"questionType\": 1, \"questionId\": \"6_GroupbyCountryVariety\", \"learnToolsVersion\": \"0.3.4\", \"failureMessage\": \"\", \"exceptionClass\": \"\", \"trace\": \"\"}}, \"*\")"
      ],
      "text/plain": [
       "<IPython.core.display.Javascript object>"
      ]
     },
     "metadata": {},
     "output_type": "display_data"
    },
    {
     "data": {
      "text/markdown": [
       "<span style=\"color:#33cc33\">Correct</span>"
      ],
      "text/plain": [
       "Correct"
      ]
     },
     "metadata": {},
     "output_type": "display_data"
    }
   ],
   "source": [
    "country_variety_counts = reviews.groupby(['country', 'variety']).size().sort_values(ascending=False)\n",
    "\n",
    "# Check your answer\n",
    "q6.check()"
   ]
  },
  {
   "cell_type": "code",
   "execution_count": 21,
   "id": "e0a31fc9",
   "metadata": {
    "execution": {
     "iopub.execute_input": "2022-06-18T05:43:06.584230Z",
     "iopub.status.busy": "2022-06-18T05:43:06.583745Z",
     "iopub.status.idle": "2022-06-18T05:43:06.594222Z",
     "shell.execute_reply": "2022-06-18T05:43:06.593240Z"
    },
    "papermill": {
     "duration": 0.028702,
     "end_time": "2022-06-18T05:43:06.597048",
     "exception": false,
     "start_time": "2022-06-18T05:43:06.568346",
     "status": "completed"
    },
    "tags": []
   },
   "outputs": [
    {
     "data": {
      "text/plain": [
       "country  variety                 \n",
       "US       Pinot Noir                  9885\n",
       "         Cabernet Sauvignon          7315\n",
       "         Chardonnay                  6801\n",
       "France   Bordeaux-style Red Blend    4725\n",
       "Italy    Red Blend                   3624\n",
       "                                     ... \n",
       "Mexico   Cinsault                       1\n",
       "         Grenache                       1\n",
       "         Merlot                         1\n",
       "         Rosado                         1\n",
       "Uruguay  White Blend                    1\n",
       "Length: 1612, dtype: int64"
      ]
     },
     "execution_count": 21,
     "metadata": {},
     "output_type": "execute_result"
    }
   ],
   "source": [
    "country_variety_counts"
   ]
  },
  {
   "cell_type": "code",
   "execution_count": 22,
   "id": "9867fc04",
   "metadata": {
    "execution": {
     "iopub.execute_input": "2022-06-18T05:43:06.626273Z",
     "iopub.status.busy": "2022-06-18T05:43:06.625572Z",
     "iopub.status.idle": "2022-06-18T05:43:06.638255Z",
     "shell.execute_reply": "2022-06-18T05:43:06.637509Z"
    },
    "papermill": {
     "duration": 0.029757,
     "end_time": "2022-06-18T05:43:06.640206",
     "exception": false,
     "start_time": "2022-06-18T05:43:06.610449",
     "status": "completed"
    },
    "tags": []
   },
   "outputs": [
    {
     "data": {
      "application/javascript": [
       "parent.postMessage({\"jupyterEvent\": \"custom.exercise_interaction\", \"data\": {\"interactionType\": 2, \"questionType\": 1, \"questionId\": \"6_GroupbyCountryVariety\", \"learnToolsVersion\": \"0.3.4\", \"valueTowardsCompletion\": 0.0, \"failureMessage\": \"\", \"exceptionClass\": \"\", \"trace\": \"\", \"outcomeType\": 4}}, \"*\")"
      ],
      "text/plain": [
       "<IPython.core.display.Javascript object>"
      ]
     },
     "metadata": {},
     "output_type": "display_data"
    },
    {
     "data": {
      "text/markdown": [
       "<span style=\"color:#3366cc\">Hint:</span> Use `groupby()`, and provide a list of columns to group by.  You may also find `size()` and `sort_values()` to be useful!"
      ],
      "text/plain": [
       "Hint: Use `groupby()`, and provide a list of columns to group by.  You may also find `size()` and `sort_values()` to be useful!"
      ]
     },
     "metadata": {},
     "output_type": "display_data"
    },
    {
     "data": {
      "application/javascript": [
       "parent.postMessage({\"jupyterEvent\": \"custom.exercise_interaction\", \"data\": {\"interactionType\": 3, \"questionType\": 1, \"questionId\": \"6_GroupbyCountryVariety\", \"learnToolsVersion\": \"0.3.4\", \"valueTowardsCompletion\": 0.0, \"failureMessage\": \"\", \"exceptionClass\": \"\", \"trace\": \"\", \"outcomeType\": 4}}, \"*\")"
      ],
      "text/plain": [
       "<IPython.core.display.Javascript object>"
      ]
     },
     "metadata": {},
     "output_type": "display_data"
    },
    {
     "data": {
      "text/markdown": [
       "<span style=\"color:#33cc99\">Solution:</span> \n",
       "```python\n",
       "country_variety_counts = reviews.groupby(['country', 'variety']).size().sort_values(ascending=False)\n",
       "```"
      ],
      "text/plain": [
       "Solution: \n",
       "```python\n",
       "country_variety_counts = reviews.groupby(['country', 'variety']).size().sort_values(ascending=False)\n",
       "```"
      ]
     },
     "metadata": {},
     "output_type": "display_data"
    }
   ],
   "source": [
    "q6.hint()\n",
    "q6.solution()"
   ]
  },
  {
   "cell_type": "markdown",
   "id": "fa5a3cce",
   "metadata": {
    "papermill": {
     "duration": 0.013824,
     "end_time": "2022-06-18T05:43:06.668104",
     "exception": false,
     "start_time": "2022-06-18T05:43:06.654280",
     "status": "completed"
    },
    "tags": []
   },
   "source": [
    "# Keep going\n",
    "\n",
    "Move on to the [**data types and missing data**](https://www.kaggle.com/residentmario/data-types-and-missing-values)."
   ]
  },
  {
   "cell_type": "markdown",
   "id": "98f173b3",
   "metadata": {
    "papermill": {
     "duration": 0.014097,
     "end_time": "2022-06-18T05:43:06.696273",
     "exception": false,
     "start_time": "2022-06-18T05:43:06.682176",
     "status": "completed"
    },
    "tags": []
   },
   "source": [
    "---\n",
    "\n",
    "\n",
    "\n",
    "\n",
    "*Have questions or comments? Visit the [course discussion forum](https://www.kaggle.com/learn/pandas/discussion) to chat with other learners.*"
   ]
  }
 ],
 "metadata": {
  "kernelspec": {
   "display_name": "Python 3",
   "language": "python",
   "name": "python3"
  },
  "language_info": {
   "codemirror_mode": {
    "name": "ipython",
    "version": 3
   },
   "file_extension": ".py",
   "mimetype": "text/x-python",
   "name": "python",
   "nbconvert_exporter": "python",
   "pygments_lexer": "ipython3",
   "version": "3.7.12"
  },
  "papermill": {
   "default_parameters": {},
   "duration": 16.117953,
   "end_time": "2022-06-18T05:43:07.433267",
   "environment_variables": {},
   "exception": null,
   "input_path": "__notebook__.ipynb",
   "output_path": "__notebook__.ipynb",
   "parameters": {},
   "start_time": "2022-06-18T05:42:51.315314",
   "version": "2.3.4"
  }
 },
 "nbformat": 4,
 "nbformat_minor": 5
}
